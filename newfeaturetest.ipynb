{
 "cells": [
  {
   "cell_type": "code",
   "execution_count": 1,
   "metadata": {},
   "outputs": [
    {
     "name": "stdout",
     "output_type": "stream",
     "text": [
      "This image appears to be a passport-style photo of a young man with dark hair pulled back into a ponytail, wearing a long-sleeved shirt with a brown, white, and gold pattern. The shirt appears to have a traditional Asian design. The background is a royal blue backdrop, typically found in passport photos. There may have been more details in this image, but unfortunately, it has been cut off at both the left and right sides.\n"
     ]
    }
   ],
   "source": [
    "from groq import Groq\n",
    "import base64\n",
    "from dotenv import load_dotenv\n",
    "import os\n",
    "\n",
    "load_dotenv()\n",
    "\n",
    "def encode_image(image_path):\n",
    "  with open(image_path, \"rb\") as image_file:\n",
    "    return base64.b64encode(image_file.read()).decode('utf-8')\n",
    "\n",
    "image_path = r\"C:\\Users\\Axioo Pongo\\Downloads\\Pasfoto.png\"\n",
    "\n",
    "base64_image = encode_image(image_path)\n",
    "\n",
    "local_image = f\"data:image/jpeg;base64,{base64_image}\"\n",
    "\n",
    "client = Groq(api_key=os.getenv(\"GROQ_API_KEY\"))\n",
    "completion = client.chat.completions.create(\n",
    "    model=\"llama-3.2-11b-vision-preview\",\n",
    "    messages=[\n",
    "        {\n",
    "            \"role\": \"user\",\n",
    "            \"content\": [\n",
    "                {\n",
    "                    \"type\": \"text\",\n",
    "                    \"text\": \"What's in this image?\"\n",
    "                },\n",
    "                {\n",
    "                    \"type\": \"image_url\",\n",
    "                    \"image_url\": {\n",
    "                        \"url\": local_image\n",
    "                    }\n",
    "                }\n",
    "            ]\n",
    "        }\n",
    "    ],\n",
    "    temperature=1,\n",
    "    max_tokens=1024,\n",
    "    top_p=1,\n",
    "    stream=False,\n",
    "    stop=None,\n",
    ")\n",
    "\n",
    "print(completion.choices[0].message.content)\n"
   ]
  },
  {
   "cell_type": "code",
   "execution_count": 9,
   "metadata": {},
   "outputs": [
    {
     "ename": "SyntaxError",
     "evalue": "(unicode error) 'unicodeescape' codec can't decode bytes in position 2-3: truncated \\UXXXXXXXX escape (3488247648.py, line 7)",
     "output_type": "error",
     "traceback": [
      "\u001b[1;36m  Cell \u001b[1;32mIn[9], line 7\u001b[1;36m\u001b[0m\n\u001b[1;33m    usrinput = 'C:\\Users\\Axioo Pongo\\Downloads\\Pasfoto.png'\u001b[0m\n\u001b[1;37m                                                           ^\u001b[0m\n\u001b[1;31mSyntaxError\u001b[0m\u001b[1;31m:\u001b[0m (unicode error) 'unicodeescape' codec can't decode bytes in position 2-3: truncated \\UXXXXXXXX escape\n"
     ]
    }
   ],
   "source": [
    "import token\n",
    "import tokenize\n",
    "import nltk\n",
    "import re\n",
    "from nltk.tokenize import word_tokenize\n",
    "\n",
    "usrinput = 'C:\\Users\\Axioo Pongo\\Downloads\\Pasfoto.png'\n",
    "path_pattern = path_pattern = r\"'([A-Za-z]:\\\\(?:[^\\\\/:*?\\\"<>|\\r\\n]+\\\\)*[^\\\\/:*?\\\"<>|\\r\\n]+)'\"\n",
    "# input = input.replace(\"\\\\\", \"/\")\n",
    "# tokenized = word_tokenize(input)\n",
    "# tokenized\n",
    "\n",
    "match = re.search(path_pattern, usrinput)\n",
    "\n",
    "if match:\n",
    "    file_path = match.group(1)\n",
    "    \n",
    "    # Replace backslashes with forward slashes in the file path\n",
    "    processed_path = file_path.replace(\"\\\\\", \"/\")\n",
    "    \n",
    "    # Remove the file path from the original text\n",
    "    remaining_text = usrinput.replace(file_path, \"\").strip()\n",
    "    \n",
    "    # Tokenize the remaining text\n",
    "    tokenized_text = word_tokenize(remaining_text)\n",
    "    \n",
    "    # Print the results\n",
    "    print(\"File Path:\", processed_path)\n",
    "    print(\"Remaining Text:\", tokenized_text)\n",
    "else:\n",
    "    print(\"No file path found in the input text.\")"
   ]
  }
 ],
 "metadata": {
  "kernelspec": {
   "display_name": "venv",
   "language": "python",
   "name": "python3"
  },
  "language_info": {
   "codemirror_mode": {
    "name": "ipython",
    "version": 3
   },
   "file_extension": ".py",
   "mimetype": "text/x-python",
   "name": "python",
   "nbconvert_exporter": "python",
   "pygments_lexer": "ipython3",
   "version": "3.10.11"
  }
 },
 "nbformat": 4,
 "nbformat_minor": 2
}
